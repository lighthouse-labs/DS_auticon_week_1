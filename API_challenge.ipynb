{
 "cells": [
  {
   "cell_type": "markdown",
   "metadata": {},
   "source": [
    "## Visual Crossing API"
   ]
  },
  {
   "cell_type": "markdown",
   "metadata": {},
   "source": [
    "Now we are going to work with another API which is very useful in real-life applications\n",
    "\n",
    "> #### Instruction\n",
    "> Create a free account for the [**Visual Crossing API**](https://www.visualcrossing.com/weather-api).\n",
    "\n",
    "Once you are logged in you will see a home page similar to this:\n",
    "\n",
    "![](https://i.imgur.com/ZrHaGAB.png)\n",
    "\n",
    "Let's break this down:\n",
    "\n",
    "1. Your **secret** API key – make sure to keep it safe. It works as an authentification against their server.\n",
    "2. Your current pricing plan.\n",
    "\n",
    "> #### Warning\n",
    "> Once the trial period is over, we have only 250 free requests per day so make sure to use them wisely :)"
   ]
  },
  {
   "cell_type": "code",
   "execution_count": null,
   "metadata": {},
   "outputs": [],
   "source": []
  },
  {
   "cell_type": "markdown",
   "metadata": {},
   "source": [
    "> #### Instruction\n",
    "> Read through the [**Weather API Documentation**](https://www.visualcrossing.com/resources/documentation/weather-api/weather-api-documentation/)\n",
    "\n",
    "There are information about how to get weather predictions using HTTP requests.\n",
    "\n",
    "## Task \n",
    "Get the weather forecast for\n",
    "\n",
    "- Vancouver\n",
    "- Toronto\n",
    "- Montreal\n",
    "- Ottawa\n",
    "- Calgary\n",
    "\n",
    "Steps are very similar to those we have seen in the walkthrough earlier today. You have to find the correct URL format in the documentation above and send the request using `requests` library."
   ]
  },
  {
   "cell_type": "code",
   "execution_count": 2,
   "metadata": {},
   "outputs": [],
   "source": [
    "import requests"
   ]
  },
  {
   "cell_type": "code",
   "execution_count": 3,
   "metadata": {},
   "outputs": [],
   "source": [
    "secret_key = \"your key here\""
   ]
  },
  {
   "cell_type": "code",
   "execution_count": null,
   "metadata": {},
   "outputs": [],
   "source": []
  },
  {
   "cell_type": "markdown",
   "metadata": {},
   "source": [
    "The output will be quite messy again but you will be able to find the forecast in there. We will be working with this API in the next week's project as well. We will be also parsing outputs then :). **Enjoy!!**"
   ]
  },
  {
   "cell_type": "code",
   "execution_count": null,
   "metadata": {},
   "outputs": [],
   "source": []
  }
 ],
 "metadata": {
  "kernelspec": {
   "display_name": "Python 3",
   "language": "python",
   "name": "python3"
  },
  "language_info": {
   "codemirror_mode": {
    "name": "ipython",
    "version": 3
   },
   "file_extension": ".py",
   "mimetype": "text/x-python",
   "name": "python",
   "nbconvert_exporter": "python",
   "pygments_lexer": "ipython3",
   "version": "3.7.6"
  }
 },
 "nbformat": 4,
 "nbformat_minor": 4
}
